{
 "cells": [
  {
   "cell_type": "markdown",
   "metadata": {},
   "source": [
    "# Input functions"
   ]
  },
  {
   "cell_type": "code",
   "execution_count": null,
   "metadata": {},
   "outputs": [],
   "source": [
    "input():\n",
    "     Which is used to give input to the program in the form of string"
   ]
  },
  {
   "cell_type": "code",
   "execution_count": null,
   "metadata": {},
   "outputs": [],
   "source": [
    "syntax: \n",
    "    x=input(\"Enter String....\")"
   ]
  },
  {
   "cell_type": "code",
   "execution_count": 1,
   "metadata": {},
   "outputs": [
    {
     "name": "stdout",
     "output_type": "stream",
     "text": [
      "Enter x value:10\n",
      "10\n"
     ]
    }
   ],
   "source": [
    "#Example program\n",
    "x=input(\"Enter x value:\")\n",
    "print(x)"
   ]
  },
  {
   "cell_type": "code",
   "execution_count": 3,
   "metadata": {},
   "outputs": [
    {
     "name": "stdout",
     "output_type": "stream",
     "text": [
      "Enter a value:10\n",
      "Enter b value:20\n",
      "1020\n",
      "<class 'str'>\n"
     ]
    }
   ],
   "source": [
    "#Example program\n",
    "a=input(\"Enter a value:\")\n",
    "b=input(\"Enter b value:\")\n",
    "print(a+b)\n",
    "print(type(a))"
   ]
  },
  {
   "cell_type": "code",
   "execution_count": 4,
   "metadata": {},
   "outputs": [
    {
     "name": "stdout",
     "output_type": "stream",
     "text": [
      "Enter a value:10\n",
      "Enter b value:20\n",
      "30\n",
      "<class 'int'>\n"
     ]
    }
   ],
   "source": [
    "#Example program\n",
    "a=int(input(\"Enter a value:\"))\n",
    "b=int(input(\"Enter b value:\"))\n",
    "print(a+b)\n",
    "print(type(a))"
   ]
  },
  {
   "cell_type": "code",
   "execution_count": 6,
   "metadata": {},
   "outputs": [
    {
     "name": "stdout",
     "output_type": "stream",
     "text": [
      "Enter a value:23\n",
      "Enter b value:40\n",
      "40\n"
     ]
    }
   ],
   "source": [
    "#Example program to find biggest number of given two numbers\n",
    "a=int(input(\"Enter a value:\"))\n",
    "b=int(input(\"Enter b value:\"))\n",
    "x=a if a>b else b\n",
    "print(x)\n"
   ]
  },
  {
   "cell_type": "code",
   "execution_count": 13,
   "metadata": {},
   "outputs": [
    {
     "name": "stdout",
     "output_type": "stream",
     "text": [
      "Enter a value:10\n",
      "Enter b value:20\n",
      "30.0\n"
     ]
    }
   ],
   "source": [
    "#Example program to find biggest number of given two numbers\n",
    "a=float(input(\"Enter a value:\"))\n",
    "b=float(input(\"Enter b value:\"))\n",
    "print(a+b)"
   ]
  },
  {
   "cell_type": "markdown",
   "metadata": {},
   "source": [
    "# How to read multiple values in single line\n"
   ]
  },
  {
   "cell_type": "code",
   "execution_count": 16,
   "metadata": {},
   "outputs": [
    {
     "name": "stdout",
     "output_type": "stream",
     "text": [
      "Enter a and b values:10 20\n",
      "30\n"
     ]
    }
   ],
   "source": [
    "a,b=[int(x) for x in input(\"Enter a and b values:\").split()]\n",
    "print(a+b)"
   ]
  },
  {
   "cell_type": "code",
   "execution_count": 17,
   "metadata": {},
   "outputs": [
    {
     "name": "stdout",
     "output_type": "stream",
     "text": [
      "Enter a and b values:10;20\n",
      "30\n"
     ]
    }
   ],
   "source": [
    "a,b=[int(x) for x in input(\"Enter a and b values:\").split(';')]\n",
    "print(a+b)"
   ]
  },
  {
   "cell_type": "code",
   "execution_count": 18,
   "metadata": {},
   "outputs": [
    {
     "name": "stdout",
     "output_type": "stream",
     "text": [
      "Enter a and b values:10+20\n",
      "30\n"
     ]
    }
   ],
   "source": [
    "a,b=[int(x) for x in input(\"Enter a and b values:\").split('+')]\n",
    "print(a+b)"
   ]
  },
  {
   "cell_type": "markdown",
   "metadata": {},
   "source": [
    "## Output function"
   ]
  },
  {
   "cell_type": "code",
   "execution_count": null,
   "metadata": {},
   "outputs": [],
   "source": [
    "print():\n",
    "    \n",
    "    1. print(\"Text\")\n",
    "    2. print(variables)\n",
    "    3. print(\"Text\", variables)"
   ]
  },
  {
   "cell_type": "code",
   "execution_count": 8,
   "metadata": {},
   "outputs": [
    {
     "name": "stdout",
     "output_type": "stream",
     "text": [
      "Hello this is text printing...\n"
     ]
    }
   ],
   "source": [
    "#Example\n",
    "print(\"Hello this is text printing...\")"
   ]
  },
  {
   "cell_type": "code",
   "execution_count": 9,
   "metadata": {},
   "outputs": [
    {
     "name": "stdout",
     "output_type": "stream",
     "text": [
      "10\n",
      "20\n"
     ]
    }
   ],
   "source": [
    "#example to print variable values\n",
    "a=10\n",
    "b=20\n",
    "print(a)\n",
    "print(b)"
   ]
  },
  {
   "cell_type": "code",
   "execution_count": 10,
   "metadata": {},
   "outputs": [
    {
     "name": "stdout",
     "output_type": "stream",
     "text": [
      "A values is: 10\n",
      "B values is: 20\n"
     ]
    }
   ],
   "source": [
    "#Example with text and variable values\n",
    "a=10\n",
    "b=20\n",
    "print(\"A values is:\",a)\n",
    "print(\"B values is:\",b)"
   ]
  },
  {
   "cell_type": "code",
   "execution_count": null,
   "metadata": {},
   "outputs": [],
   "source": []
  }
 ],
 "metadata": {
  "kernelspec": {
   "display_name": "Python 3",
   "language": "python",
   "name": "python3"
  },
  "language_info": {
   "codemirror_mode": {
    "name": "ipython",
    "version": 3
   },
   "file_extension": ".py",
   "mimetype": "text/x-python",
   "name": "python",
   "nbconvert_exporter": "python",
   "pygments_lexer": "ipython3",
   "version": "3.7.4"
  }
 },
 "nbformat": 4,
 "nbformat_minor": 4
}
